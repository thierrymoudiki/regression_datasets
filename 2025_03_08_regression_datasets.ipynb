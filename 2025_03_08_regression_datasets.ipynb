{
  "nbformat": 4,
  "nbformat_minor": 0,
  "metadata": {
    "colab": {
      "provenance": []
    },
    "kernelspec": {
      "name": "python3",
      "display_name": "Python 3"
    },
    "language_info": {
      "name": "python"
    }
  },
  "cells": [
    {
      "cell_type": "code",
      "source": [
        "!pip install ucimlrepo"
      ],
      "metadata": {
        "id": "dw36_VIOX9Ed"
      },
      "execution_count": null,
      "outputs": []
    },
    {
      "cell_type": "code",
      "execution_count": 35,
      "metadata": {
        "id": "ZDpEz8NlX4fk"
      },
      "outputs": [],
      "source": [
        "from ucimlrepo import fetch_ucirepo\n",
        "\n",
        "# List of dataset IDs and names (from UCI repository)\n",
        "dataset_ids = {\n",
        "    \"wine_quality\": 186,\n",
        "    \"concrete_strength\": 165,\n",
        "    \"bike_sharing\": 275,\n",
        "}\n",
        "\n",
        "# Dictionary to store datasets\n",
        "datasets = {}\n",
        "\n",
        "# Loop through dataset IDs and fetch data\n",
        "for name, dataset_id in dataset_ids.items():\n",
        "    dataset = fetch_ucirepo(id=dataset_id)\n",
        "\n",
        "    # Store features (X) and target (y)\n",
        "    datasets[name] = {\n",
        "        \"X\": dataset.data.features,\n",
        "        \"y\": dataset.data.targets,\n",
        "        #\"metadata\": dataset.metadata,\n",
        "        #\"variables\": dataset.variables\n",
        "    }"
      ]
    },
    {
      "cell_type": "code",
      "source": [
        "datasets['wine_quality']"
      ],
      "metadata": {
        "colab": {
          "base_uri": "https://localhost:8080/"
        },
        "id": "yjoZSWs2e9jI",
        "outputId": "7c69b76e-22a0-4fa7-d6b8-c88a8a973fa4"
      },
      "execution_count": 36,
      "outputs": [
        {
          "output_type": "execute_result",
          "data": {
            "text/plain": [
              "{'X':       fixed_acidity  volatile_acidity  citric_acid  residual_sugar  chlorides  \\\n",
              " 0               7.4              0.70         0.00             1.9      0.076   \n",
              " 1               7.8              0.88         0.00             2.6      0.098   \n",
              " 2               7.8              0.76         0.04             2.3      0.092   \n",
              " 3              11.2              0.28         0.56             1.9      0.075   \n",
              " 4               7.4              0.70         0.00             1.9      0.076   \n",
              " ...             ...               ...          ...             ...        ...   \n",
              " 6492            6.2              0.21         0.29             1.6      0.039   \n",
              " 6493            6.6              0.32         0.36             8.0      0.047   \n",
              " 6494            6.5              0.24         0.19             1.2      0.041   \n",
              " 6495            5.5              0.29         0.30             1.1      0.022   \n",
              " 6496            6.0              0.21         0.38             0.8      0.020   \n",
              " \n",
              "       free_sulfur_dioxide  total_sulfur_dioxide  density    pH  sulphates  \\\n",
              " 0                    11.0                  34.0  0.99780  3.51       0.56   \n",
              " 1                    25.0                  67.0  0.99680  3.20       0.68   \n",
              " 2                    15.0                  54.0  0.99700  3.26       0.65   \n",
              " 3                    17.0                  60.0  0.99800  3.16       0.58   \n",
              " 4                    11.0                  34.0  0.99780  3.51       0.56   \n",
              " ...                   ...                   ...      ...   ...        ...   \n",
              " 6492                 24.0                  92.0  0.99114  3.27       0.50   \n",
              " 6493                 57.0                 168.0  0.99490  3.15       0.46   \n",
              " 6494                 30.0                 111.0  0.99254  2.99       0.46   \n",
              " 6495                 20.0                 110.0  0.98869  3.34       0.38   \n",
              " 6496                 22.0                  98.0  0.98941  3.26       0.32   \n",
              " \n",
              "       alcohol  \n",
              " 0         9.4  \n",
              " 1         9.8  \n",
              " 2         9.8  \n",
              " 3         9.8  \n",
              " 4         9.4  \n",
              " ...       ...  \n",
              " 6492     11.2  \n",
              " 6493      9.6  \n",
              " 6494      9.4  \n",
              " 6495     12.8  \n",
              " 6496     11.8  \n",
              " \n",
              " [6497 rows x 11 columns],\n",
              " 'y':       quality\n",
              " 0           5\n",
              " 1           5\n",
              " 2           5\n",
              " 3           6\n",
              " 4           5\n",
              " ...       ...\n",
              " 6492        6\n",
              " 6493        5\n",
              " 6494        6\n",
              " 6495        7\n",
              " 6496        6\n",
              " \n",
              " [6497 rows x 1 columns]}"
            ]
          },
          "metadata": {},
          "execution_count": 36
        }
      ]
    },
    {
      "cell_type": "code",
      "source": [
        "from sklearn.datasets import fetch_openml\n",
        "\n",
        "# List of OpenML dataset IDs (from your provided list)\n",
        "openml_datasets = {\n",
        "    \"openml34538\": 34538,\n",
        "    \"tst-census\": 2000,\n",
        "    \"openml405\": 405,\n",
        "    \"tmdb-movie-metadata\": 4809,\n",
        "    \"openml503\": 503,\n",
        "    \"openml558\": 558,\n",
        "    \"openml308\": 308\n",
        "}\n",
        "\n",
        "# Dictionary to store datasets\n",
        "datasets2 = {}\n",
        "\n",
        "# Loop through dataset IDs and fetch them\n",
        "for name, dataset_id in openml_datasets.items():\n",
        "    try:\n",
        "        dataset = fetch_openml(data_id=dataset_id, as_frame=True, parser=\"pandas\")\n",
        "\n",
        "        # Store features (X) and target (y)\n",
        "        datasets2[name] = {\n",
        "            \"X\": dataset.data,\n",
        "            \"y\": dataset.target,\n",
        "            #\"metadata\": dataset.details\n",
        "        }\n",
        "\n",
        "        print(f\"✅ Downloaded: {name} (ID {dataset_id})\")\n",
        "\n",
        "    except Exception as e:\n",
        "        print(f\"❌ Failed to download {name} (ID {dataset_id}): {e}\")"
      ],
      "metadata": {
        "colab": {
          "base_uri": "https://localhost:8080/"
        },
        "id": "4vSIefZSa-fk",
        "outputId": "c8d2b0e2-ff01-4cc8-d72e-9f133b6804d5"
      },
      "execution_count": 47,
      "outputs": [
        {
          "output_type": "stream",
          "name": "stderr",
          "text": [
            "/usr/local/lib/python3.11/dist-packages/sklearn/datasets/_openml.py:1030: UserWarning: Version 12 of dataset QSAR-DATASET-FOR-DRUG-TARGET-CHEMBL1800 is inactive, meaning that issues have been found in the dataset. Try using a newer version from this URL: https://api.openml.org/data/v1/download/3532090/QSAR-DATASET-FOR-DRUG-TARGET-CHEMBL1800.arff\n",
            "  warn(\n"
          ]
        },
        {
          "output_type": "stream",
          "name": "stdout",
          "text": [
            "❌ Failed to download openml34538 (ID 34538): Error tokenizing data. C error: Expected 36 fields in line 3, saw 38\n",
            "\n",
            "❌ Failed to download tst-census (ID 2000): Dataset with data_id 2000 not found.\n",
            "✅ Downloaded: openml405 (ID 405)\n",
            "❌ Failed to download tmdb-movie-metadata (ID 4809): Dataset with data_id 4809 not found.\n",
            "✅ Downloaded: openml503 (ID 503)\n",
            "✅ Downloaded: openml558 (ID 558)\n",
            "✅ Downloaded: openml308 (ID 308)\n"
          ]
        }
      ]
    },
    {
      "cell_type": "code",
      "source": [
        "# Example usage: Accessing one available dataset\n",
        "available_datasets = list(datasets.keys())  # Get valid dataset names\n",
        "\n",
        "print(\"Available datasets:\")\n",
        "print(available_datasets)"
      ],
      "metadata": {
        "colab": {
          "base_uri": "https://localhost:8080/"
        },
        "id": "TYY-CQIWgK_k",
        "outputId": "8a86393a-6f15-4e6e-d5bf-78f300edef70"
      },
      "execution_count": 48,
      "outputs": [
        {
          "output_type": "stream",
          "name": "stdout",
          "text": [
            "Available datasets:\n",
            "['wine_quality', 'concrete_strength', 'bike_sharing']\n"
          ]
        }
      ]
    },
    {
      "cell_type": "code",
      "source": [
        "# Example usage: Accessing one available dataset\n",
        "available_datasets2 = list(datasets2.keys())  # Get valid dataset names\n",
        "\n",
        "print(\"Available datasets2:\")\n",
        "print(available_datasets2)"
      ],
      "metadata": {
        "colab": {
          "base_uri": "https://localhost:8080/"
        },
        "id": "_o2qFPDpbT3q",
        "outputId": "a690dc04-2b89-4b8d-9243-237f3978fe71"
      },
      "execution_count": 49,
      "outputs": [
        {
          "output_type": "stream",
          "name": "stdout",
          "text": [
            "Available datasets2:\n",
            "['openml405', 'openml503', 'openml558', 'openml308']\n"
          ]
        }
      ]
    },
    {
      "cell_type": "code",
      "source": [
        "# prompt: merge dictionaries datasets and datasets2\n",
        "\n",
        "# Merge the two dictionaries\n",
        "merged_datasets = datasets.copy()  # Start with a copy of datasets\n",
        "merged_datasets.update(datasets2)  # Add datasets2 to the copy\n",
        "\n"
      ],
      "metadata": {
        "id": "CFw8MB6Dff_Y"
      },
      "execution_count": 50,
      "outputs": []
    },
    {
      "cell_type": "code",
      "source": [
        "print(list(merged_datasets.keys()))"
      ],
      "metadata": {
        "colab": {
          "base_uri": "https://localhost:8080/"
        },
        "id": "9GlFf0MHf1Tt",
        "outputId": "11094913-d036-4234-d436-37e755f65d34"
      },
      "execution_count": 52,
      "outputs": [
        {
          "output_type": "stream",
          "name": "stdout",
          "text": [
            "['wine_quality', 'concrete_strength', 'bike_sharing', 'openml405', 'openml503', 'openml558', 'openml308']\n"
          ]
        }
      ]
    },
    {
      "cell_type": "code",
      "source": [
        "!pip install category_encoders"
      ],
      "metadata": {
        "colab": {
          "base_uri": "https://localhost:8080/"
        },
        "id": "BBnVplo4mAX5",
        "outputId": "2732714a-abef-448d-e62b-175e138a6dbc"
      },
      "execution_count": 69,
      "outputs": [
        {
          "output_type": "stream",
          "name": "stdout",
          "text": [
            "Collecting category_encoders\n",
            "  Downloading category_encoders-2.8.0-py3-none-any.whl.metadata (7.9 kB)\n",
            "Requirement already satisfied: numpy>=1.14.0 in /usr/local/lib/python3.11/dist-packages (from category_encoders) (1.26.4)\n",
            "Requirement already satisfied: pandas>=1.0.5 in /usr/local/lib/python3.11/dist-packages (from category_encoders) (2.2.2)\n",
            "Requirement already satisfied: patsy>=0.5.1 in /usr/local/lib/python3.11/dist-packages (from category_encoders) (1.0.1)\n",
            "Requirement already satisfied: scikit-learn>=1.6.0 in /usr/local/lib/python3.11/dist-packages (from category_encoders) (1.6.1)\n",
            "Requirement already satisfied: scipy>=1.0.0 in /usr/local/lib/python3.11/dist-packages (from category_encoders) (1.13.1)\n",
            "Requirement already satisfied: statsmodels>=0.9.0 in /usr/local/lib/python3.11/dist-packages (from category_encoders) (0.14.4)\n",
            "Requirement already satisfied: python-dateutil>=2.8.2 in /usr/local/lib/python3.11/dist-packages (from pandas>=1.0.5->category_encoders) (2.8.2)\n",
            "Requirement already satisfied: pytz>=2020.1 in /usr/local/lib/python3.11/dist-packages (from pandas>=1.0.5->category_encoders) (2025.1)\n",
            "Requirement already satisfied: tzdata>=2022.7 in /usr/local/lib/python3.11/dist-packages (from pandas>=1.0.5->category_encoders) (2025.1)\n",
            "Requirement already satisfied: joblib>=1.2.0 in /usr/local/lib/python3.11/dist-packages (from scikit-learn>=1.6.0->category_encoders) (1.4.2)\n",
            "Requirement already satisfied: threadpoolctl>=3.1.0 in /usr/local/lib/python3.11/dist-packages (from scikit-learn>=1.6.0->category_encoders) (3.5.0)\n",
            "Requirement already satisfied: packaging>=21.3 in /usr/local/lib/python3.11/dist-packages (from statsmodels>=0.9.0->category_encoders) (24.2)\n",
            "Requirement already satisfied: six>=1.5 in /usr/local/lib/python3.11/dist-packages (from python-dateutil>=2.8.2->pandas>=1.0.5->category_encoders) (1.17.0)\n",
            "Downloading category_encoders-2.8.0-py3-none-any.whl (85 kB)\n",
            "\u001b[?25l   \u001b[90m━━━━━━━━━━━━━━━━━━━━━━━━━━━━━━━━━━━━━━━━\u001b[0m \u001b[32m0.0/85.7 kB\u001b[0m \u001b[31m?\u001b[0m eta \u001b[36m-:--:--\u001b[0m\r\u001b[2K   \u001b[90m━━━━━━━━━━━━━━━━━━━━━━━━━━━━━━━━━━━━━━━━\u001b[0m \u001b[32m85.7/85.7 kB\u001b[0m \u001b[31m3.7 MB/s\u001b[0m eta \u001b[36m0:00:00\u001b[0m\n",
            "\u001b[?25hInstalling collected packages: category_encoders\n",
            "Successfully installed category_encoders-2.8.0\n"
          ]
        }
      ]
    },
    {
      "cell_type": "code",
      "source": [
        "import category_encoders as ce\n",
        "\n",
        "regression_datasets = {}\n",
        "\n",
        "# Example of accessing merged data\n",
        "for k, v in merged_datasets.items():\n",
        "  print(k)\n",
        "  print(v['X'].values.shape)\n",
        "  print(v['y'].values.ravel())\n",
        "  encoder = ce.TargetEncoder(cols=v['X'])\n",
        "  encoder.fit(v['X'], v['y'].values)\n",
        "  X_cleaned = encoder.transform(v['X'])\n",
        "  regression_datasets[k] = {\"dfX\": v['X'], \"dfy\":v['y'], \"X\":X_cleaned.values, \"y\":v['y'].values.ravel()}"
      ],
      "metadata": {
        "colab": {
          "base_uri": "https://localhost:8080/"
        },
        "id": "-vD-NEKnfxRA",
        "outputId": "2a726b64-645b-4cd4-bf2a-187261315976"
      },
      "execution_count": 72,
      "outputs": [
        {
          "output_type": "stream",
          "name": "stdout",
          "text": [
            "wine_quality\n",
            "(6497, 11)\n",
            "[5 5 5 ... 6 7 6]\n",
            "concrete_strength\n",
            "(1030, 8)\n",
            "[79.99 61.89 40.27 ... 23.7  32.77 32.4 ]\n",
            "bike_sharing\n",
            "(17379, 13)\n",
            "[16 40 32 ... 90 61 49]\n",
            "openml405\n",
            "(4450, 202)\n",
            "[0.       0.017173 0.035667 ... 0.377807 0.602378 0.200793]\n",
            "openml503\n",
            "(6574, 14)\n",
            "[15.04 13.83 12.71 ... 29.58 28.79 22.08]\n",
            "openml558\n",
            "(8192, 32)\n",
            "[0.049118 0.242579 0.       ... 0.006235 0.034258 0.06573 ]\n",
            "openml308\n",
            "(8192, 32)\n",
            "[ 0.052627  0.001308  0.003834 ... -0.022139  0.00033  -0.000198]\n"
          ]
        }
      ]
    },
    {
      "cell_type": "code",
      "source": [],
      "metadata": {
        "id": "9KKhR5zinIJe"
      },
      "execution_count": null,
      "outputs": []
    },
    {
      "cell_type": "code",
      "source": [
        "# prompt: save `regression_datasets` in a downloadable format, using joblib\n",
        "\n",
        "import joblib\n",
        "\n",
        "# Assuming 'regression_datasets' is defined as in the previous code\n",
        "\n",
        "# Specify the file path for saving\n",
        "file_path = 'regression_datasets.joblib'\n",
        "\n",
        "# Save the dictionary to a file\n",
        "joblib.dump(regression_datasets, file_path, compress=3)  # compress for smaller file size\n",
        "\n",
        "# To download the file in Google Colab:\n",
        "from google.colab import files\n",
        "files.download(file_path)\n"
      ],
      "metadata": {
        "colab": {
          "base_uri": "https://localhost:8080/",
          "height": 17
        },
        "id": "IdV89dBljtMh",
        "outputId": "dfe15391-0f89-43a0-eaf9-8b368e5551f2"
      },
      "execution_count": 73,
      "outputs": [
        {
          "output_type": "display_data",
          "data": {
            "text/plain": [
              "<IPython.core.display.Javascript object>"
            ],
            "application/javascript": [
              "\n",
              "    async function download(id, filename, size) {\n",
              "      if (!google.colab.kernel.accessAllowed) {\n",
              "        return;\n",
              "      }\n",
              "      const div = document.createElement('div');\n",
              "      const label = document.createElement('label');\n",
              "      label.textContent = `Downloading \"${filename}\": `;\n",
              "      div.appendChild(label);\n",
              "      const progress = document.createElement('progress');\n",
              "      progress.max = size;\n",
              "      div.appendChild(progress);\n",
              "      document.body.appendChild(div);\n",
              "\n",
              "      const buffers = [];\n",
              "      let downloaded = 0;\n",
              "\n",
              "      const channel = await google.colab.kernel.comms.open(id);\n",
              "      // Send a message to notify the kernel that we're ready.\n",
              "      channel.send({})\n",
              "\n",
              "      for await (const message of channel.messages) {\n",
              "        // Send a message to notify the kernel that we're ready.\n",
              "        channel.send({})\n",
              "        if (message.buffers) {\n",
              "          for (const buffer of message.buffers) {\n",
              "            buffers.push(buffer);\n",
              "            downloaded += buffer.byteLength;\n",
              "            progress.value = downloaded;\n",
              "          }\n",
              "        }\n",
              "      }\n",
              "      const blob = new Blob(buffers, {type: 'application/binary'});\n",
              "      const a = document.createElement('a');\n",
              "      a.href = window.URL.createObjectURL(blob);\n",
              "      a.download = filename;\n",
              "      div.appendChild(a);\n",
              "      a.click();\n",
              "      div.remove();\n",
              "    }\n",
              "  "
            ]
          },
          "metadata": {}
        },
        {
          "output_type": "display_data",
          "data": {
            "text/plain": [
              "<IPython.core.display.Javascript object>"
            ],
            "application/javascript": [
              "download(\"download_a3a1a7d3-9a33-43c1-8203-ddb98c20d257\", \"regression_datasets.joblib\", 13039513)"
            ]
          },
          "metadata": {}
        }
      ]
    },
    {
      "cell_type": "code",
      "source": [
        "from sklearn.linear_model import LinearRegression\n",
        "\n",
        "for dataset in regression_datasets.values():\n",
        "  model = LinearRegression()\n",
        "  model.fit(dataset['X'], dataset['y'])\n",
        "  print(model.score(dataset['X'], dataset['y']))"
      ],
      "metadata": {
        "colab": {
          "base_uri": "https://localhost:8080/"
        },
        "id": "5aj23la8k0LU",
        "outputId": "a3980003-9600-4992-f7b7-ea944a73958f"
      },
      "execution_count": 74,
      "outputs": [
        {
          "output_type": "stream",
          "name": "stdout",
          "text": [
            "0.3937368603749972\n",
            "0.7977039277771659\n",
            "0.7068198451544414\n",
            "0.9995364200580121\n",
            "0.7159580456698464\n",
            "0.9999622643211983\n",
            "1.0\n"
          ]
        }
      ]
    }
  ]
}